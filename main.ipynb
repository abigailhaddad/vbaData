{
 "cells": [
  {
   "cell_type": "markdown",
   "metadata": {},
   "source": [
    "# VBA Files"
   ]
  },
  {
   "cell_type": "markdown",
   "metadata": {},
   "source": [
    "### Pulling Excel Files from the Website"
   ]
  },
  {
   "cell_type": "code",
   "execution_count": 1,
   "metadata": {},
   "outputs": [],
   "source": [
    "# There are weekly files from 2014 to present on https://www.benefits.va.gov/reports/detailed_claims_data.asp\n",
    "\n",
    "# There are historical files at https://www.benefits.va.gov/REPORTS/mmwr/historical/{year}/index.asp from 2004 to 2013\n",
    "\n",
    "# Presumably the first step will be just pulling all of them"
   ]
  },
  {
   "cell_type": "markdown",
   "metadata": {},
   "source": [
    "### Libraries/Setup"
   ]
  },
  {
   "cell_type": "code",
   "execution_count": 2,
   "metadata": {},
   "outputs": [],
   "source": [
    "import pandas as pd\n",
    "import numpy as np\n",
    "import os\n",
    "import requests\n",
    "from bs4 import BeautifulSoup\n",
    "os.chdir(r'C:\\Users\\admin\\Documents\\Python Scripts\\veteranLawData')"
   ]
  },
  {
   "cell_type": "markdown",
   "metadata": {},
   "source": [
    "### Get File URLs"
   ]
  },
  {
   "cell_type": "code",
   "execution_count": 3,
   "metadata": {},
   "outputs": [],
   "source": [
    "def pullTheFiles(year):\n",
    "    url= f'https://www.benefits.va.gov/REPORTS/mmwr/historical/{str(year)}/index.asp'\n",
    "    r = requests.get(url)\n",
    "    soup = BeautifulSoup(r.text, \"html.parser\")\n",
    "    filesToGet=[]\n",
    "    for link in soup.findAll('a'):\n",
    "        try:\n",
    "            if \"xls\" in (link.get('href')):\n",
    "                filesToGet.append(link.get('href'))\n",
    "        except:\n",
    "            pass\n",
    "    return(filesToGet)\n",
    "\n",
    "yearRange=list(range(2004, 2014))\n",
    "#files=pullTheFiles(2004)\n",
    "filesList=list(map(pullTheFiles, yearRange))\n",
    "flatFileList = [item for sublist in filesList for item in sublist]"
   ]
  },
  {
   "cell_type": "markdown",
   "metadata": {},
   "source": [
    "### Check We Have The Right Number: 2008 Is Legitimately Missing Three, I Checked"
   ]
  },
  {
   "cell_type": "code",
   "execution_count": 4,
   "metadata": {},
   "outputs": [
    {
     "name": "stdout",
     "output_type": "stream",
     "text": [
      "52\n",
      "52\n",
      "52\n",
      "52\n",
      "49\n",
      "52\n",
      "52\n",
      "52\n",
      "52\n",
      "53\n"
     ]
    }
   ],
   "source": [
    "for fileList in filesList:\n",
    "    print(len(fileList))"
   ]
  },
  {
   "cell_type": "markdown",
   "metadata": {},
   "source": [
    "### Pull The Files"
   ]
  },
  {
   "cell_type": "code",
   "execution_count": 5,
   "metadata": {},
   "outputs": [],
   "source": [
    "def pullFile(url):\n",
    "    cleanLink='https://www.benefits.va.gov'+url\n",
    "    r = requests.get(cleanLink, allow_redirects=True)\n",
    "    name=cleanLink.split(\"/\")[-1]\n",
    "    open(name, 'wb').write(r.content)\n",
    "    return(name)\n",
    "\n",
    "#listOfFileNames=list(map(pullFile, files))\n",
    "filesNameList=list(map(pullFile, flatFileList))"
   ]
  },
  {
   "cell_type": "markdown",
   "metadata": {},
   "source": [
    "### Read Them Into A Dictionary"
   ]
  },
  {
   "cell_type": "code",
   "execution_count": 8,
   "metadata": {},
   "outputs": [
    {
     "name": "stdout",
     "output_type": "stream",
     "text": [
      "failed on 102113.xls\n",
      "failed on 102813.xls\n",
      "failed on 110413.xls\n",
      "failed on 111213.xls\n",
      "failed on 111813.xls\n",
      "failed on 112513.xls\n",
      "failed on 120213.xls\n",
      "failed on 120913.xls\n",
      "failed on 121613.xls\n",
      "failed on 122313.xls\n",
      "failed on 123013.xls\n"
     ]
    }
   ],
   "source": [
    "def readBasicFile(fileName):\n",
    "    try:\n",
    "        df=pd.read_excel(fileName)\n",
    "        return(df)\n",
    "    except:\n",
    "        print(f\"failed on {fileName}\")\n",
    "\n",
    "listOfDFs=list(map(readBasicFile, filesNameList))\n",
    "dictionaryOfFiles = dict(zip(filesNameList, listOfDFs))"
   ]
  },
  {
   "cell_type": "markdown",
   "metadata": {},
   "source": [
    "### Append Into Master DF"
   ]
  },
  {
   "cell_type": "code",
   "execution_count": 11,
   "metadata": {},
   "outputs": [
    {
     "name": "stdout",
     "output_type": "stream",
     "text": [
      "failed on NewMMWL_100509.xls\n",
      "failed on 101309.xls\n",
      "failed on 101909.xls\n",
      "failed on 102609.xls\n",
      "failed on 110209.xls\n",
      "failed on 110909.xls\n",
      "failed on 111609.xls\n",
      "failed on 112309.xls\n",
      "failed on 113009.xls\n",
      "failed on 120709.xls\n",
      "failed on 121409.xls\n",
      "failed on 122109.xls\n",
      "failed on 122809.xls\n",
      "failed on 010410.xlsx\n",
      "failed on 040510.xlsx\n",
      "failed on 070610.xlsx\n",
      "failed on 100410.xlsx\n",
      "failed on 011110.xlsx\n",
      "failed on 041210.xlsx\n",
      "failed on 071210.xlsx\n",
      "failed on 101210.xlsx\n",
      "failed on 011910.xlsx\n",
      "failed on 041910.xlsx\n",
      "failed on 071910.xlsx\n",
      "failed on 101810.xlsx\n",
      "failed on 012510.xlsx\n",
      "failed on 042610.xlsx\n",
      "failed on 072610.xlsx\n",
      "failed on 102510.xlsx\n",
      "failed on 020110.xlsx\n",
      "failed on 050310.xlsx\n",
      "failed on 080210.xlsx\n",
      "failed on 110110.xlsx\n",
      "failed on 020810.xlsx\n",
      "failed on 051010.xlsx\n",
      "failed on 080910.xlsx\n",
      "failed on 110810.xlsx\n",
      "failed on 021610.xlsx\n",
      "failed on 051710.xlsx\n",
      "failed on 081610.xlsx\n",
      "failed on 111510.xlsx\n",
      "failed on 022210.xlsx\n",
      "failed on 052410.xlsx\n",
      "failed on 082310.xlsx\n",
      "failed on 112210.xlsx\n",
      "failed on 030110.xlsx\n",
      "failed on 053110.xlsx\n",
      "failed on 083010.xlsx\n",
      "failed on 112910.xlsx\n",
      "failed on 030810.xlsx\n",
      "failed on 060710.xlsx\n",
      "failed on 090710.xlsx\n",
      "failed on 120610.xlsx\n",
      "failed on 031510.xlsx\n",
      "failed on 061410.xlsx\n",
      "failed on 091310.xlsx\n",
      "failed on 121310.xlsx\n",
      "failed on 032210.xlsx\n",
      "failed on 062110.xlsx\n",
      "failed on 092010.xlsx\n",
      "failed on 122010.xlsx\n",
      "failed on 032910.xlsx\n",
      "failed on 062810.xlsx\n",
      "failed on 092710.xlsx\n",
      "failed on 122710.xlsx\n",
      "failed on 010311.xls\n",
      "failed on MMWLD04-04-11.xlsx\n",
      "failed on MMWLD07-05-11.xlsx\n",
      "failed on MMWLD10-03-11.xlsx\n",
      "failed on 011011.xlsx\n",
      "failed on 041111.xlsx\n",
      "failed on 071111.xlsx\n",
      "failed on 101111.xlsx\n",
      "failed on 011811.xlsx\n",
      "failed on 041811.xlsx\n",
      "failed on 071811.xlsx\n",
      "failed on 101711.xlsx\n",
      "failed on 012411.xlsx\n",
      "failed on 042511.xlsx\n",
      "failed on 072511.xlsx\n",
      "failed on 102411.xlsx\n",
      "failed on 013111.xlsx\n",
      "failed on 050211.xlsx\n",
      "failed on 080111.xlsx\n",
      "failed on 103111.xlsx\n",
      "failed on 020711.xlsx\n",
      "failed on 050911.xlsx\n",
      "failed on 080811.xlsx\n",
      "failed on 110711.xlsx\n",
      "failed on 021411.xlsx\n",
      "failed on 051611.xlsx\n",
      "failed on 081511.xlsx\n",
      "failed on 111411.xlsx\n",
      "failed on 022211.xlsx\n",
      "failed on 052311.xlsx\n",
      "failed on 082211.xlsx\n",
      "failed on 112111.xlsx\n",
      "failed on 022811.xlsx\n",
      "failed on 053111.xlsx\n",
      "failed on 082911.xlsx\n",
      "failed on 112811.xlsx\n",
      "failed on 030711.xlsx\n",
      "failed on 060611.xlsx\n",
      "failed on 090611.xlsx\n",
      "failed on 120511.xlsx\n",
      "failed on 031411.xlsx\n",
      "failed on 061311.xlsx\n",
      "failed on 091211.xlsx\n",
      "failed on 121211.xlsx\n",
      "failed on 032111.xlsx\n",
      "failed on 062011.xlsx\n",
      "failed on 091911.xlsx\n",
      "failed on 121911.xlsx\n",
      "failed on 032811.xlsx\n",
      "failed on 062711.xlsx\n",
      "failed on 092611.xlsx\n",
      "failed on 122711.xlsx\n",
      "failed on 010312.xls\n",
      "failed on 040212.xls\n",
      "failed on 070212.xls\n",
      "failed on 100112.xls\n",
      "failed on 010912.xls\n",
      "failed on 040912.xls\n",
      "failed on 070912.xls\n",
      "failed on 100912.xls\n",
      "failed on 011712.xls\n",
      "failed on 041612.xls\n",
      "failed on 071612.xls\n",
      "failed on 101512.xls\n",
      "failed on 012312.xls\n",
      "failed on 042312.xls\n",
      "failed on 072312.xls\n",
      "failed on 102212.xls\n",
      "failed on 013012.xls\n",
      "failed on 043012.xls\n",
      "failed on 073012.xls\n",
      "failed on 102912.xls\n",
      "failed on 020612.xls\n",
      "failed on 050712.xls\n",
      "failed on 080612.xls\n",
      "failed on 110512.xls\n",
      "failed on 021312.xls\n",
      "failed on 051412.xls\n",
      "failed on 081312.xls\n",
      "failed on 111312.xls\n",
      "failed on 022112.xls\n",
      "failed on 052112.xls\n",
      "failed on 082012.xls\n",
      "failed on 111912.xls\n",
      "failed on 022712.xls\n",
      "failed on 052912.xls\n",
      "failed on 082712.xls\n",
      "failed on 112612.xls\n",
      "failed on 030512.xls\n",
      "failed on 060412.xls\n",
      "failed on 090412.xls\n",
      "failed on 120312.xls\n",
      "failed on 031212.xls\n",
      "failed on 061112.xls\n",
      "failed on 091012.xls\n",
      "failed on 121012.xls\n",
      "failed on 031912.xls\n",
      "failed on 061812.xls\n",
      "failed on 091712.xls\n",
      "failed on 121712.xls\n",
      "failed on 032612.xls\n",
      "failed on 062512.xls\n",
      "failed on 092412.xls\n",
      "failed on 122612.xls\n",
      "failed on 123112.xls\n",
      "failed on 040113.xls\n",
      "failed on 070113.xls\n",
      "failed on 092813.xls\n",
      "failed on 010713.xls\n",
      "failed on 040813.xls\n",
      "failed on 070613.xls\n",
      "failed on 100713.xls\n",
      "failed on 011413.xls\n",
      "failed on 041513.xls\n",
      "failed on 071313.xls\n",
      "failed on 101513.xls\n",
      "failed on 012213.xls\n",
      "failed on 042213.xls\n",
      "failed on 072013.xls\n",
      "failed on 102113.xls\n",
      "failed on 012813.xls\n",
      "failed on 042913.xls\n",
      "failed on 072713.xls\n",
      "failed on 102813.xls\n",
      "failed on 020413.xls\n",
      "failed on 050613.xls\n",
      "failed on 080313.xls\n",
      "failed on 110413.xls\n",
      "failed on 021113.xls\n",
      "failed on 051313.xls\n",
      "failed on 081013.xls\n",
      "failed on 111213.xls\n",
      "failed on 021913.xls\n",
      "failed on 052013.xls\n",
      "failed on 081713.xls\n",
      "failed on 111813.xls\n",
      "failed on 022513.xls\n",
      "failed on 052813.xls\n",
      "failed on 082413.xls\n",
      "failed on 112513.xls\n",
      "failed on 030213.xls\n",
      "failed on 060313.xls\n",
      "failed on 083113.xls\n",
      "failed on 120213.xls\n",
      "failed on 030913.xls\n",
      "failed on 061013.xls\n",
      "failed on 090713.xls\n",
      "failed on 120913.xls\n",
      "failed on 031813.xls\n",
      "failed on 061713.xls\n",
      "failed on 091413.xls\n",
      "failed on 121613.xls\n",
      "failed on 032513.xls\n",
      "failed on 062413.xls\n",
      "failed on 092113.xls\n",
      "failed on 122313.xls\n",
      "failed on 123013.xls\n"
     ]
    }
   ],
   "source": [
    "masterDF=pd.DataFrame()\n",
    "for key in dictionaryOfFiles.keys():\n",
    "    try:\n",
    "        df=dictionaryOfFiles[key]\n",
    "        df['fileName']=key\n",
    "        listOfPhrasesToFind=[\"As of\", \"For the Week\"]\n",
    "        foundPhrase=[i for i in df.columns if any(substring in i for substring in listOfPhrasesToFind)]\n",
    "        dropPhrase=[i for i in df.columns if \"Percent\" in i]\n",
    "        #print(len(foundPhrase))\n",
    "        df[\"forTheWeek\"]=df[foundPhrase[0]]\n",
    "        df=df.drop([foundPhrase[0]], axis=1)\n",
    "        df=df.drop(dropPhrase, axis=1)\n",
    "        masterDF=masterDF.append(df, sort=True)\n",
    "    except:\n",
    "        print(f'failed on {key}')"
   ]
  },
  {
   "cell_type": "code",
   "execution_count": 12,
   "metadata": {},
   "outputs": [
    {
     "data": {
      "text/plain": [
       "Index([' ', ' Rating Cases Pending', ' Rating Claims Pending',\n",
       "       '* Scorecard  Non-Rating Cases Pending',\n",
       "       '* Scorecard  Non-Rating Claims Pending', 'C&P Claims over 180 Days ',\n",
       "       'C&P Claims over 180 Days in WIPP', 'C&P Work Items over 180 Days ',\n",
       "       'COE', 'COEs Issued', 'Date of Oldest Pending COE',\n",
       "       'Education Cases Pending ', 'Education Work Items Pending ',\n",
       "       'Guarantees Pending', 'IVMs Pending (EP 154 and EP 314)',\n",
       "       'Non-Rating Cases Pending over 180 Days',\n",
       "       'Non-Rating Claims Pending over 180 Days', 'Pre-Discharge Claims',\n",
       "       'Rating Cases Pending', 'Rating Cases Pending over 180 Days',\n",
       "       'Rating Claims Pending over 180 Days', 'SOC's',\n",
       "       'Scorecard Non-Rating Cases Pending', 'Scorecard Rating Cases Pending',\n",
       "       'Total Appeals Requiring Adjudicative Action ',\n",
       "       'Total Appeals Requiring Adjudicative action ', 'Total C&P Pending ',\n",
       "       'Total C&P Pending in Wipp', 'Total C&P Work Items Pending ',\n",
       "       'Unnamed: 18', 'VACOLS Appeals',\n",
       "       'VACOLS Appeals includes AMC & Travel Board', 'fileName', 'forTheWeek'],\n",
       "      dtype='object')"
      ]
     },
     "execution_count": 12,
     "metadata": {},
     "output_type": "execute_result"
    }
   ],
   "source": [
    "masterDF.columns"
   ]
  },
  {
   "cell_type": "markdown",
   "metadata": {},
   "source": [
    "### Right now: it looks like 04-09 is working; after that we need to look at the format of the 09 worksheets to modify it; there's also some column cleaning we may need to do for the 04-09 group; this is a good stopping point"
   ]
  },
  {
   "cell_type": "code",
   "execution_count": null,
   "metadata": {},
   "outputs": [],
   "source": []
  }
 ],
 "metadata": {
  "kernelspec": {
   "display_name": "Python 3",
   "language": "python",
   "name": "python3"
  },
  "language_info": {
   "codemirror_mode": {
    "name": "ipython",
    "version": 3
   },
   "file_extension": ".py",
   "mimetype": "text/x-python",
   "name": "python",
   "nbconvert_exporter": "python",
   "pygments_lexer": "ipython3",
   "version": "3.7.1"
  }
 },
 "nbformat": 4,
 "nbformat_minor": 2
}
